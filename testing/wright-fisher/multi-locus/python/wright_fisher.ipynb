{
 "cells": [
  {
   "cell_type": "markdown",
   "id": "05efa7ea-9b9e-490e-839a-9bd081550ab6",
   "metadata": {},
   "source": [
    "# Wright-Fisher model"
   ]
  },
  {
   "cell_type": "markdown",
   "id": "c908e3b6-1fb2-4c7a-9a36-16d87bcff5a2",
   "metadata": {},
   "source": [
    "## Imports"
   ]
  },
  {
   "cell_type": "code",
   "execution_count": 1,
   "id": "ddd6eaa1-426a-434c-bd78-02443abac59e",
   "metadata": {
    "execution": {
     "iopub.execute_input": "2022-09-15T22:49:30.247454Z",
     "iopub.status.busy": "2022-09-15T22:49:30.247098Z",
     "iopub.status.idle": "2022-09-15T22:49:30.317207Z",
     "shell.execute_reply": "2022-09-15T22:49:30.316301Z",
     "shell.execute_reply.started": "2022-09-15T22:49:30.247373Z"
    },
    "tags": []
   },
   "outputs": [],
   "source": [
    "from typing import List\n",
    "\n",
    "import numpy as np"
   ]
  },
  {
   "cell_type": "markdown",
   "id": "b1c023f9-b7a6-441a-861c-8d4479dcb1a2",
   "metadata": {},
   "source": [
    "## Methods"
   ]
  },
  {
   "cell_type": "code",
   "execution_count": 2,
   "id": "47416b6b-eb11-407a-ba8b-ddb4a87ea823",
   "metadata": {
    "execution": {
     "iopub.execute_input": "2022-09-15T22:49:30.319459Z",
     "iopub.status.busy": "2022-09-15T22:49:30.319196Z",
     "iopub.status.idle": "2022-09-15T22:49:30.332465Z",
     "shell.execute_reply": "2022-09-15T22:49:30.331515Z",
     "shell.execute_reply.started": "2022-09-15T22:49:30.319438Z"
    },
    "tags": []
   },
   "outputs": [],
   "source": [
    "def wright_fisher_fwd(\n",
    "    T: int = 50,\n",
    "    N: int = 100,\n",
    "    nSim: int = 20,\n",
    "    theta_f: List[float] = [0.5],\n",
    "    theta_h: List[float] = [0.05],\n",
    "    theta_z0: List[float] = [0.1],\n",
    "    seed: float = 100,\n",
    "    verbose: bool = False,\n",
    ") -> (np.ndarray, np.ndarray, np.ndarray):\n",
    "    \"\"\"Forward simulation of the Wright-Fisher model.\n",
    "\n",
    "    Args:\n",
    "        T (int, optional): time-points. Defaults to 50.\n",
    "        N (int, optional): size of population. Defaults to 100.\n",
    "        nSim (int, optional): number of forward simulations. Defaults to 20.\n",
    "        theta_f (List[float], optional): log relative fitness(es) of given variant(s). Defaults to a single variant with 0.5.\n",
    "        theta_h (List[float], optional): mutation rate of variant(s). Defaults to single variant with mutation rate 0.05.\n",
    "        theta_z0 (List[float], optional): initial probability of variant(s). Defaults to single variant with probability 0.1.\n",
    "        seed (float, optional): random seed. Defaults to 100.\n",
    "        verbose (bool, optional): increase printing verbosity. Defaults to False.\n",
    "\n",
    "    Returns:\n",
    "        Zs, Pis, log_Ps ((numpy.ndarray, numpy.ndarray, numpy.ndarray)): _description_\n",
    "\n",
    "    Examples:\n",
    "        Simple run with verbose output\n",
    "\n",
    "            >>> Zs, Pis, log_Ps = wright_fisher_fwd(\n",
    "                    T=4,\n",
    "                    N=5,\n",
    "                    nSim=3,\n",
    "                    theta_f=[0.5],\n",
    "                    theta_h=[0.05],\n",
    "                    theta_z0=[0.1],\n",
    "                    seed=100,\n",
    "                    verbose=True,\n",
    "                )\n",
    "\n",
    "        Quiet run with default paramaters\n",
    "\n",
    "            >>> Zs, Pis, log_Ps = wright_fisher_fwd()\n",
    "\n",
    "    Todo:\n",
    "        * Upgrade nested List outputs to numpy.ndarray\n",
    "    \"\"\"\n",
    "    print(\"\\n-------starting-------\\n\")\n",
    "    if verbose:\n",
    "        print(\"function arguments: \\n\")\n",
    "        for key, value in locals().items():\n",
    "            print(f\"\\t- {key} = {value}\")\n",
    "\n",
    "    Zs = [None] * nSim\n",
    "    Pis = [None] * nSim  # np.empty((nSim))\n",
    "    log_Ps = np.zeros((nSim))\n",
    "    Dz = len(theta_f)\n",
    "\n",
    "    np.random.seed(seed)\n",
    "\n",
    "    for cSim in range(nSim):\n",
    "        if verbose:\n",
    "            print(f\"\\nsimulation: {cSim}\\n\")\n",
    "\n",
    "        Z = np.zeros((T, N, Dz))\n",
    "        Pi = np.zeros((T, N))\n",
    "        for i in range(Dz):\n",
    "            Z[0, :, i] = np.random.rand(1, N) < theta_z0[i]\n",
    "            log_Ps[cSim] = np.sum(Z[0, :, i] * np.log(theta_z0[i]) + (1 - Z[0, :, i]) * np.log(1 - theta_z0[i]))\n",
    "\n",
    "        for t in range(1, T):\n",
    "            fs = np.zeros((N))\n",
    "            for i in range(Dz):\n",
    "                fs = fs + Z[t - 1, :, i] * theta_f[i]\n",
    "\n",
    "            fs = np.exp(fs)\n",
    "            fs = fs / np.sum(fs)\n",
    "            fs_ = np.cumsum(fs)\n",
    "\n",
    "            for n in range(N):\n",
    "                idx = np.argwhere(np.random.rand() <= fs_).flatten()\n",
    "                idx = idx[0]\n",
    "                Pi[t, n] = idx\n",
    "                log_Ps[cSim] = log_Ps[cSim] + np.log(fs[idx])\n",
    "                for i in range(Dz):\n",
    "                    if np.random.rand() >= theta_h[i]:\n",
    "                        Z[t, n, i] = Z[t - 1, idx, i]\n",
    "                        log_Ps[cSim] = log_Ps[cSim] + np.log(1 - theta_h[i])\n",
    "                    else:\n",
    "                        Z[t, n, i] = 1 - Z[t - 1, idx, i]\n",
    "                        log_Ps[cSim] = log_Ps[cSim] + np.log(theta_h[i])\n",
    "\n",
    "        Zs[cSim] = Z\n",
    "        Pis[cSim] = Pi\n",
    "\n",
    "        if verbose:\n",
    "            print(\"\\t* array/list sizes\\n\")\n",
    "            for key, value in dict(\n",
    "                [\n",
    "                    (\"Z\", Z),\n",
    "                    (\"Pi\", Pi),\n",
    "                    (\"log_Ps\", log_Ps),\n",
    "                    (\"fs\", fs),\n",
    "                    (\"Zs\", Zs),\n",
    "                    (\"Pis\", Pis),\n",
    "                ]\n",
    "            ).items():\n",
    "                print(f\"\\t\\t- {key}: {np.array(value, dtype=object).shape}\")\n",
    "\n",
    "    if verbose:\n",
    "        print(\"\\n-------completed-------\\n\")\n",
    "\n",
    "    return Zs, Pis, log_Ps"
   ]
  },
  {
   "cell_type": "code",
   "execution_count": 3,
   "id": "e8c415ad-a0d7-40d8-beba-a3c488281662",
   "metadata": {
    "execution": {
     "iopub.execute_input": "2022-09-15T22:49:30.334181Z",
     "iopub.status.busy": "2022-09-15T22:49:30.333761Z",
     "iopub.status.idle": "2022-09-15T22:49:30.351537Z",
     "shell.execute_reply": "2022-09-15T22:49:30.350903Z",
     "shell.execute_reply.started": "2022-09-15T22:49:30.334148Z"
    },
    "tags": []
   },
   "outputs": [],
   "source": [
    "def wright_fisher_bwd(\n",
    "    T: int = 50,\n",
    "    N: int = 100,\n",
    "    nSim: int = 20,\n",
    "    theta_f: List[float] = [0.5],\n",
    "    theta_h: List[float] = [0.05],\n",
    "    theta_z0: List[float] = [0.1],\n",
    "    seed: float = 100,\n",
    "    verbose: bool = False,\n",
    ") -> (np.ndarray, np.ndarray, np.ndarray, np.ndarray):\n",
    "    Zs = [None] * nSim\n",
    "    Pis = [None] * nSim\n",
    "    log_Qs = np.zeros((nSim))\n",
    "    Dz = len(theta_f)\n",
    "\n",
    "    np.random.seed(seed)\n",
    "\n",
    "    for t in range(T - 1):\n",
    "        for i in range(Dz):\n",
    "            pass"
   ]
  },
  {
   "cell_type": "markdown",
   "id": "34bc34b2-ac21-428a-b121-77fc35806bbc",
   "metadata": {},
   "source": [
    "## Tests"
   ]
  },
  {
   "cell_type": "markdown",
   "id": "a8440d93-aa9c-41df-bf56-595116e2c374",
   "metadata": {},
   "source": [
    "### declare paramters"
   ]
  },
  {
   "cell_type": "code",
   "execution_count": 4,
   "id": "0008856c-ae16-4ba1-8e12-bf02cb3ecca6",
   "metadata": {
    "execution": {
     "iopub.execute_input": "2022-09-15T22:49:30.352831Z",
     "iopub.status.busy": "2022-09-15T22:49:30.352464Z",
     "iopub.status.idle": "2022-09-15T22:49:30.358295Z",
     "shell.execute_reply": "2022-09-15T22:49:30.357374Z",
     "shell.execute_reply.started": "2022-09-15T22:49:30.352809Z"
    },
    "tags": []
   },
   "outputs": [],
   "source": [
    "# fwd simulations\n",
    "nSim1 = 3\n",
    "\n",
    "# time-points\n",
    "T = 4\n",
    "\n",
    "# size of population\n",
    "N = 5\n",
    "\n",
    "# log relative fitness of variant\n",
    "theta_f = [0.5]\n",
    "# mutation rate\n",
    "theta_h = [0.05]\n",
    "# initial probability of variant\n",
    "theta_z0 = [0.1]\n",
    "\n",
    "Dz = len(theta_f)\n",
    "\n",
    "# random seed\n",
    "seed = 100\n",
    "\n",
    "# verbosity\n",
    "verbose = True\n",
    "\n",
    "\n",
    "# bkw simulations\n",
    "nSim2 = 2\n",
    "# mixing param for bkw simulation\n",
    "alpha = 0.85 * np.ones((1, T))\n",
    "# for smoothing proposal dist\n",
    "ep = 0"
   ]
  },
  {
   "cell_type": "markdown",
   "id": "69651a4d-c05f-4f25-b980-572c11d4f927",
   "metadata": {
    "jp-MarkdownHeadingCollapsed": true,
    "tags": []
   },
   "source": [
    "### wright_fisher_fwd"
   ]
  },
  {
   "cell_type": "code",
   "execution_count": 5,
   "id": "a622a425-91c4-4a68-8b52-91246b30cb78",
   "metadata": {
    "execution": {
     "iopub.execute_input": "2022-09-15T22:49:30.359681Z",
     "iopub.status.busy": "2022-09-15T22:49:30.359432Z",
     "iopub.status.idle": "2022-09-15T22:49:30.368696Z",
     "shell.execute_reply": "2022-09-15T22:49:30.367641Z",
     "shell.execute_reply.started": "2022-09-15T22:49:30.359661Z"
    },
    "tags": []
   },
   "outputs": [
    {
     "name": "stdout",
     "output_type": "stream",
     "text": [
      "\n",
      "-------starting-------\n",
      "\n",
      "function arguments: \n",
      "\n",
      "\t- T = 4\n",
      "\t- N = 5\n",
      "\t- nSim = 3\n",
      "\t- theta_f = [0.5]\n",
      "\t- theta_h = [0.05]\n",
      "\t- theta_z0 = [0.1]\n",
      "\t- seed = 100\n",
      "\t- verbose = True\n",
      "\n",
      "simulation: 0\n",
      "\n",
      "\t* array/list sizes\n",
      "\n",
      "\t\t- Z: (4, 5, 1)\n",
      "\t\t- Pi: (4, 5)\n",
      "\t\t- log_Ps: (3,)\n",
      "\t\t- fs: (5,)\n",
      "\t\t- Zs: (3,)\n",
      "\t\t- Pis: (3,)\n",
      "\n",
      "simulation: 1\n",
      "\n",
      "\t* array/list sizes\n",
      "\n",
      "\t\t- Z: (4, 5, 1)\n",
      "\t\t- Pi: (4, 5)\n",
      "\t\t- log_Ps: (3,)\n",
      "\t\t- fs: (5,)\n",
      "\t\t- Zs: (3,)\n",
      "\t\t- Pis: (3,)\n",
      "\n",
      "simulation: 2\n",
      "\n",
      "\t* array/list sizes\n",
      "\n",
      "\t\t- Z: (4, 5, 1)\n",
      "\t\t- Pi: (4, 5)\n",
      "\t\t- log_Ps: (3,)\n",
      "\t\t- fs: (5,)\n",
      "\t\t- Zs: (3, 4, 5, 1)\n",
      "\t\t- Pis: (3, 4, 5)\n",
      "\n",
      "-------completed-------\n",
      "\n"
     ]
    }
   ],
   "source": [
    "Zs, Pis, log_Ps = wright_fisher_fwd(T, N, nSim1, theta_f, theta_h, theta_z0, seed, verbose);"
   ]
  },
  {
   "cell_type": "code",
   "execution_count": 6,
   "id": "aa318d38-22b1-417e-b2f4-ebe3c5aeb681",
   "metadata": {
    "execution": {
     "iopub.execute_input": "2022-09-15T22:49:30.370084Z",
     "iopub.status.busy": "2022-09-15T22:49:30.369836Z",
     "iopub.status.idle": "2022-09-15T22:49:30.382726Z",
     "shell.execute_reply": "2022-09-15T22:49:30.381761Z",
     "shell.execute_reply.started": "2022-09-15T22:49:30.370064Z"
    },
    "tags": []
   },
   "outputs": [
    {
     "data": {
      "text/plain": [
       "list"
      ]
     },
     "execution_count": 6,
     "metadata": {},
     "output_type": "execute_result"
    }
   ],
   "source": [
    "type(Zs)"
   ]
  },
  {
   "cell_type": "code",
   "execution_count": 7,
   "id": "80f595e4-e569-47dc-b263-1ea8cc036d25",
   "metadata": {
    "execution": {
     "iopub.execute_input": "2022-09-15T22:49:30.385103Z",
     "iopub.status.busy": "2022-09-15T22:49:30.384836Z",
     "iopub.status.idle": "2022-09-15T22:49:30.389368Z",
     "shell.execute_reply": "2022-09-15T22:49:30.388509Z",
     "shell.execute_reply.started": "2022-09-15T22:49:30.385082Z"
    },
    "tags": []
   },
   "outputs": [],
   "source": [
    "assert np.array(Zs).shape == (nSim1, T, N, len(theta_f))"
   ]
  },
  {
   "cell_type": "code",
   "execution_count": 8,
   "id": "d0a1eef1-19cd-4ba8-84b2-112aad007d29",
   "metadata": {
    "execution": {
     "iopub.execute_input": "2022-09-15T22:49:30.390598Z",
     "iopub.status.busy": "2022-09-15T22:49:30.390378Z",
     "iopub.status.idle": "2022-09-15T22:49:30.394724Z",
     "shell.execute_reply": "2022-09-15T22:49:30.393872Z",
     "shell.execute_reply.started": "2022-09-15T22:49:30.390579Z"
    },
    "tags": []
   },
   "outputs": [],
   "source": [
    "assert np.array(Pis).shape == (nSim1, T, N)"
   ]
  },
  {
   "cell_type": "code",
   "execution_count": 9,
   "id": "c33645af-def6-4b45-bd87-176e460e376a",
   "metadata": {
    "execution": {
     "iopub.execute_input": "2022-09-15T22:49:30.396444Z",
     "iopub.status.busy": "2022-09-15T22:49:30.396118Z",
     "iopub.status.idle": "2022-09-15T22:49:30.400963Z",
     "shell.execute_reply": "2022-09-15T22:49:30.400028Z",
     "shell.execute_reply.started": "2022-09-15T22:49:30.396415Z"
    },
    "tags": []
   },
   "outputs": [],
   "source": [
    "assert np.array(log_Ps).shape == (nSim1,)"
   ]
  },
  {
   "cell_type": "code",
   "execution_count": 10,
   "id": "65974d36-e1f7-4a96-87f1-5f348b9c7466",
   "metadata": {
    "execution": {
     "iopub.execute_input": "2022-09-15T22:49:30.402316Z",
     "iopub.status.busy": "2022-09-15T22:49:30.402094Z",
     "iopub.status.idle": "2022-09-15T22:49:30.407745Z",
     "shell.execute_reply": "2022-09-15T22:49:30.406928Z",
     "shell.execute_reply.started": "2022-09-15T22:49:30.402297Z"
    },
    "tags": []
   },
   "outputs": [
    {
     "name": "stdout",
     "output_type": "stream",
     "text": [
      "size Zs: (3, 4, 5, 1)\n",
      "size Pis: (3, 4, 5)\n",
      "size log_Ps: (3,)\n"
     ]
    }
   ],
   "source": [
    "for key, value in dict([(\"Zs\", Zs), (\"Pis\", Pis), (\"log_Ps\", log_Ps)]).items():\n",
    "    print(f\"size {key}: {np.array(value).shape}\")"
   ]
  },
  {
   "cell_type": "code",
   "execution_count": null,
   "id": "e48f33bf-9a65-4474-b672-d5e10063718f",
   "metadata": {},
   "outputs": [],
   "source": []
  },
  {
   "cell_type": "markdown",
   "id": "362127c6-19be-439a-9dcd-0e43ea3291fd",
   "metadata": {
    "tags": []
   },
   "source": [
    "### wright_fisher_bwd"
   ]
  },
  {
   "cell_type": "code",
   "execution_count": 11,
   "id": "5e5b0338-d4d7-4915-bea1-b23b13ef6b32",
   "metadata": {
    "execution": {
     "iopub.execute_input": "2022-09-15T22:49:30.409208Z",
     "iopub.status.busy": "2022-09-15T22:49:30.408967Z",
     "iopub.status.idle": "2022-09-15T22:49:30.415754Z",
     "shell.execute_reply": "2022-09-15T22:49:30.414831Z",
     "shell.execute_reply.started": "2022-09-15T22:49:30.409187Z"
    },
    "tags": []
   },
   "outputs": [],
   "source": [
    "P1s = np.zeros((Dz, T - 1))\n",
    "alphas = np.zeros((T - 1))\n",
    "\n",
    "\n",
    "# print(type(i))\n",
    "# print(type(t))\n",
    "# print(type(np.array(Zs)[i,t,:,:]))\n",
    "\n",
    "for i in range(nSim1):\n",
    "    for t in range(T - 1):\n",
    "        # check mean dimension 1 vs 2\n",
    "        P1s[:, t] = P1s[:, t] + np.squeeze(np.mean(np.array(Zs)[i, t, :, :]))\n",
    "        alphas[t] = np.unique(np.array(Pis)[i, t + 1, :]).shape[0] / N"
   ]
  },
  {
   "cell_type": "code",
   "execution_count": 12,
   "id": "126f7991-6e91-45df-ab55-534185bab874",
   "metadata": {
    "execution": {
     "iopub.execute_input": "2022-09-15T22:49:30.417995Z",
     "iopub.status.busy": "2022-09-15T22:49:30.417196Z",
     "iopub.status.idle": "2022-09-15T22:49:30.421404Z",
     "shell.execute_reply": "2022-09-15T22:49:30.420496Z",
     "shell.execute_reply.started": "2022-09-15T22:49:30.417970Z"
    },
    "tags": []
   },
   "outputs": [],
   "source": [
    "# Zs_prop, Pis_prop, log_Qs, log_Ps = wright_fisher_bwd(\n",
    "#     T, N, nSim2, theta_f, theta_h, theta_z0, seed, verbose\n",
    "# );"
   ]
  },
  {
   "cell_type": "code",
   "execution_count": null,
   "id": "19f3e57f-3968-4fdd-b4ff-de98afb4dd8c",
   "metadata": {},
   "outputs": [],
   "source": []
  }
 ],
 "metadata": {
  "celltoolbar": "Slideshow",
  "jupytext": {
   "cell_metadata_json": true,
   "formats": "ipynb,md,py:percent",
   "notebook_metadata_filter": "all"
  },
  "kernelspec": {
   "display_name": "Python 3 (ipykernel)",
   "language": "python",
   "name": "python3"
  },
  "language_info": {
   "codemirror_mode": {
    "name": "ipython",
    "version": 3
   },
   "file_extension": ".py",
   "mimetype": "text/x-python",
   "name": "python",
   "nbconvert_exporter": "python",
   "pygments_lexer": "ipython3",
   "version": "3.10.7"
  },
  "rise": {
   "scroll": true,
   "theme": "black"
  },
  "toc-autonumbering": true,
  "toc-showcode": false,
  "toc-showmarkdowntxt": false,
  "widgets": {
   "application/vnd.jupyter.widget-state+json": {
    "state": {},
    "version_major": 2,
    "version_minor": 0
   }
  }
 },
 "nbformat": 4,
 "nbformat_minor": 5
}
