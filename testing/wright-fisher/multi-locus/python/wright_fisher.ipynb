{
 "cells": [
  {
   "cell_type": "markdown",
   "id": "05efa7ea-9b9e-490e-839a-9bd081550ab6",
   "metadata": {},
   "source": [
    "# Wright-Fisher model"
   ]
  },
  {
   "cell_type": "code",
   "execution_count": 1,
   "id": "ddd6eaa1-426a-434c-bd78-02443abac59e",
   "metadata": {
    "execution": {
     "iopub.execute_input": "2022-09-15T17:59:03.650753Z",
     "iopub.status.busy": "2022-09-15T17:59:03.650364Z",
     "iopub.status.idle": "2022-09-15T17:59:03.710911Z",
     "shell.execute_reply": "2022-09-15T17:59:03.710145Z",
     "shell.execute_reply.started": "2022-09-15T17:59:03.650685Z"
    },
    "tags": []
   },
   "outputs": [],
   "source": [
    "from typing import List\n",
    "\n",
    "import numpy as np"
   ]
  },
  {
   "cell_type": "code",
   "execution_count": 2,
   "id": "47416b6b-eb11-407a-ba8b-ddb4a87ea823",
   "metadata": {
    "execution": {
     "iopub.execute_input": "2022-09-15T17:59:03.712758Z",
     "iopub.status.busy": "2022-09-15T17:59:03.712461Z",
     "iopub.status.idle": "2022-09-15T17:59:03.723326Z",
     "shell.execute_reply": "2022-09-15T17:59:03.722543Z",
     "shell.execute_reply.started": "2022-09-15T17:59:03.712738Z"
    },
    "tags": []
   },
   "outputs": [],
   "source": [
    "def wright_fisher_fwd(\n",
    "    N: int = 100,\n",
    "    T: int = 50,\n",
    "    nSim: int = 20,\n",
    "    theta_f: List[float] = [0.5],\n",
    "    theta_h: List[float] = [0.05],\n",
    "    theta_z0: List[float] = [0.1],\n",
    "    seed: float = 100,\n",
    "    verbose: bool = False,\n",
    ") -> (np.ndarray, np.ndarray, np.ndarray):\n",
    "    \"\"\"Forward simulation of the Wright-Fisher model.\n",
    "\n",
    "    Args:\n",
    "        N (int, optional): size of population. Defaults to 100.\n",
    "        T (int, optional): time-points. Defaults to 50.\n",
    "        nSim (int, optional): number of forward simulations. Defaults to 20.\n",
    "        theta_f (List[float], optional): log relative fitness(es) of given variant(s). Defaults to a single variant with 0.5.\n",
    "        theta_h (List[float], optional): mutation rate of variant(s). Defaults to single variant with mutation rate 0.05.\n",
    "        theta_z0 (List[float], optional): initial probability of variant(s). Defaults to single variant with probability 0.1.\n",
    "        seed (float, optional): random seed. Defaults to 100.\n",
    "        verbose (bool, optional): increase printing verbosity. Defaults to False.\n",
    "\n",
    "    Returns:\n",
    "        Zs, Pis, log_Ps ((numpy.ndarray, numpy.ndarray, numpy.ndarray)): _description_\n",
    "\n",
    "    Examples:\n",
    "        To run with default paramaters\n",
    "\n",
    "            >>> Zs, Pis, log_Ps = fisher_wright_fwd()\n",
    "\n",
    "    Todo:\n",
    "        * Upgrade nested List outputs to numpy.ndarray\n",
    "    \"\"\"\n",
    "\n",
    "    Zs = [None] * nSim\n",
    "    Pis = [None] * nSim  # np.empty((nSim))\n",
    "    log_Ps = np.zeros((nSim))\n",
    "    Dz = len(theta_f)\n",
    "\n",
    "    np.random.seed(seed)\n",
    "\n",
    "    for cSim in range(nSim):\n",
    "\n",
    "        if verbose:\n",
    "            print(f\"\\nsimulation: {cSim}\")\n",
    "\n",
    "        Z = np.zeros((T, N, Dz))\n",
    "        Pi = np.zeros((T, N))\n",
    "        for i in range(Dz):\n",
    "            Z[0, :, i] = np.random.rand(1, N) < theta_z0[i]\n",
    "            log_Ps[cSim] = np.sum(\n",
    "                Z[0, :, i] * np.log(theta_z0[i])\n",
    "                + (1 - Z[0, :, i]) * np.log(1 - theta_z0[i])\n",
    "            )\n",
    "\n",
    "        for t in range(1, T):\n",
    "            fs = np.zeros((N))\n",
    "            for i in range(Dz):\n",
    "                fs = fs + Z[t - 1, :, i] * theta_f[i]\n",
    "\n",
    "            fs = np.exp(fs)\n",
    "            fs = fs / np.sum(fs)\n",
    "            fs_ = np.cumsum(fs)\n",
    "\n",
    "            for n in range(N):\n",
    "                idx = np.argwhere(np.random.rand() <= fs_).flatten()\n",
    "                idx = idx[0]\n",
    "                Pi[t, n] = idx\n",
    "                log_Ps[cSim] = log_Ps[cSim] + np.log(fs[idx])\n",
    "                for i in range(Dz):\n",
    "                    if np.random.rand() >= theta_h[i]:\n",
    "                        Z[t, n, i] = Z[t - 1, idx, i]\n",
    "                        log_Ps[cSim] = log_Ps[cSim] + np.log(1 - theta_h[i])\n",
    "                    else:\n",
    "                        Z[t, n, i] = 1 - Z[t - 1, idx, i]\n",
    "                        log_Ps[cSim] = log_Ps[cSim] + np.log(theta_h[i])\n",
    "\n",
    "        Zs[cSim] = Z\n",
    "        Pis[cSim] = Pi\n",
    "\n",
    "        if verbose:\n",
    "            # [print(x.shape) for x in (Z, Pi, log_Ps)]\n",
    "            # [print(x.shape) for x in (fs,)]\n",
    "            # [print(np.array(x, dtype=object).shape) for x in (Zs, Pis)]\n",
    "            for key, value in dict(\n",
    "                [\n",
    "                    (\"Z\", Z),\n",
    "                    (\"Pi\", Pi),\n",
    "                    (\"log_Ps\", log_Ps),\n",
    "                    (\"fs\", fs),\n",
    "                    (\"Zs\", Zs),\n",
    "                    (\"Pis\", Pis),\n",
    "                ]\n",
    "            ).items():\n",
    "                print(f\"size {key}: {np.array(value, dtype=object).shape}\")\n",
    "\n",
    "    return Zs, Pis, log_Ps"
   ]
  },
  {
   "cell_type": "code",
   "execution_count": 3,
   "id": "5c3ed86d-da39-43c0-87d4-387a52b3ec9a",
   "metadata": {
    "execution": {
     "iopub.execute_input": "2022-09-15T17:59:03.725032Z",
     "iopub.status.busy": "2022-09-15T17:59:03.724458Z",
     "iopub.status.idle": "2022-09-15T17:59:03.730411Z",
     "shell.execute_reply": "2022-09-15T17:59:03.729701Z",
     "shell.execute_reply.started": "2022-09-15T17:59:03.725001Z"
    },
    "tags": []
   },
   "outputs": [],
   "source": [
    "# fwd simulations\n",
    "nSim1 = 3\n",
    "# bkw simulations\n",
    "nSim2 = 5\n",
    "\n",
    "# time-points\n",
    "T = 4\n",
    "\n",
    "# size of population\n",
    "N = 5\n",
    "\n",
    "# log relative fitness of variant\n",
    "theta_f = [0.5]\n",
    "# mutation rate\n",
    "theta_h = [0.05]\n",
    "# initial probability of variant\n",
    "theta_z0 = [0.1]\n",
    "\n",
    "# mixing param for bkw simulation\n",
    "alpha = 0.85 * np.ones((1, T))\n",
    "# verbosity\n",
    "verbose = True\n",
    "# for smoothing proposal dist\n",
    "ep = 0\n",
    "\n",
    "seed = 100"
   ]
  },
  {
   "cell_type": "code",
   "execution_count": 4,
   "id": "a622a425-91c4-4a68-8b52-91246b30cb78",
   "metadata": {
    "execution": {
     "iopub.execute_input": "2022-09-15T17:59:03.733123Z",
     "iopub.status.busy": "2022-09-15T17:59:03.732738Z",
     "iopub.status.idle": "2022-09-15T17:59:03.744754Z",
     "shell.execute_reply": "2022-09-15T17:59:03.743985Z",
     "shell.execute_reply.started": "2022-09-15T17:59:03.733094Z"
    },
    "tags": []
   },
   "outputs": [
    {
     "name": "stdout",
     "output_type": "stream",
     "text": [
      "\n",
      "simulation: 0\n",
      "size Z: (4, 5, 1)\n",
      "size Pi: (4, 5)\n",
      "size log_Ps: (3,)\n",
      "size fs: (5,)\n",
      "size Zs: (3,)\n",
      "size Pis: (3,)\n",
      "\n",
      "simulation: 1\n",
      "size Z: (4, 5, 1)\n",
      "size Pi: (4, 5)\n",
      "size log_Ps: (3,)\n",
      "size fs: (5,)\n",
      "size Zs: (3,)\n",
      "size Pis: (3,)\n",
      "\n",
      "simulation: 2\n",
      "size Z: (4, 5, 1)\n",
      "size Pi: (4, 5)\n",
      "size log_Ps: (3,)\n",
      "size fs: (5,)\n",
      "size Zs: (3, 4, 5, 1)\n",
      "size Pis: (3, 4, 5)\n"
     ]
    }
   ],
   "source": [
    "Zs, Pis, log_Ps = wright_fisher_fwd(\n",
    "    N, T, nSim1, theta_f, theta_h, theta_z0, seed, verbose\n",
    ");"
   ]
  },
  {
   "cell_type": "code",
   "execution_count": 5,
   "id": "aa318d38-22b1-417e-b2f4-ebe3c5aeb681",
   "metadata": {
    "execution": {
     "iopub.execute_input": "2022-09-15T17:59:03.745967Z",
     "iopub.status.busy": "2022-09-15T17:59:03.745740Z",
     "iopub.status.idle": "2022-09-15T17:59:03.755097Z",
     "shell.execute_reply": "2022-09-15T17:59:03.754294Z",
     "shell.execute_reply.started": "2022-09-15T17:59:03.745947Z"
    }
   },
   "outputs": [
    {
     "data": {
      "text/plain": [
       "list"
      ]
     },
     "execution_count": 5,
     "metadata": {},
     "output_type": "execute_result"
    }
   ],
   "source": [
    "type(Zs)"
   ]
  },
  {
   "cell_type": "code",
   "execution_count": 6,
   "id": "80f595e4-e569-47dc-b263-1ea8cc036d25",
   "metadata": {
    "execution": {
     "iopub.execute_input": "2022-09-15T17:59:03.756991Z",
     "iopub.status.busy": "2022-09-15T17:59:03.756483Z",
     "iopub.status.idle": "2022-09-15T17:59:03.760979Z",
     "shell.execute_reply": "2022-09-15T17:59:03.760197Z",
     "shell.execute_reply.started": "2022-09-15T17:59:03.756961Z"
    },
    "tags": []
   },
   "outputs": [],
   "source": [
    "assert np.array(Zs).shape == (nSim1, T, N, len(theta_f))"
   ]
  },
  {
   "cell_type": "code",
   "execution_count": 7,
   "id": "d0a1eef1-19cd-4ba8-84b2-112aad007d29",
   "metadata": {
    "execution": {
     "iopub.execute_input": "2022-09-15T17:59:03.762905Z",
     "iopub.status.busy": "2022-09-15T17:59:03.762100Z",
     "iopub.status.idle": "2022-09-15T17:59:03.766921Z",
     "shell.execute_reply": "2022-09-15T17:59:03.765999Z",
     "shell.execute_reply.started": "2022-09-15T17:59:03.762874Z"
    },
    "tags": []
   },
   "outputs": [],
   "source": [
    "assert np.array(Pis).shape == (nSim1, T, N)"
   ]
  },
  {
   "cell_type": "code",
   "execution_count": 8,
   "id": "c33645af-def6-4b45-bd87-176e460e376a",
   "metadata": {
    "execution": {
     "iopub.execute_input": "2022-09-15T17:59:03.768303Z",
     "iopub.status.busy": "2022-09-15T17:59:03.768041Z",
     "iopub.status.idle": "2022-09-15T17:59:03.772102Z",
     "shell.execute_reply": "2022-09-15T17:59:03.771373Z",
     "shell.execute_reply.started": "2022-09-15T17:59:03.768284Z"
    },
    "tags": []
   },
   "outputs": [],
   "source": [
    "assert np.array(log_Ps).shape == (nSim1,)"
   ]
  },
  {
   "cell_type": "code",
   "execution_count": 9,
   "id": "65974d36-e1f7-4a96-87f1-5f348b9c7466",
   "metadata": {
    "execution": {
     "iopub.execute_input": "2022-09-15T17:59:03.773282Z",
     "iopub.status.busy": "2022-09-15T17:59:03.773036Z",
     "iopub.status.idle": "2022-09-15T17:59:03.778287Z",
     "shell.execute_reply": "2022-09-15T17:59:03.777433Z",
     "shell.execute_reply.started": "2022-09-15T17:59:03.773237Z"
    },
    "tags": []
   },
   "outputs": [
    {
     "name": "stdout",
     "output_type": "stream",
     "text": [
      "size Zs: (3, 4, 5, 1)\n",
      "size Pis: (3, 4, 5)\n",
      "size log_Ps: (3,)\n"
     ]
    }
   ],
   "source": [
    "for key, value in dict([(\"Zs\", Zs), (\"Pis\", Pis), (\"log_Ps\", log_Ps)]).items():\n",
    "    print(f\"size {key}: {np.array(value).shape}\")"
   ]
  },
  {
   "cell_type": "code",
   "execution_count": null,
   "id": "e48f33bf-9a65-4474-b672-d5e10063718f",
   "metadata": {},
   "outputs": [],
   "source": []
  }
 ],
 "metadata": {
  "celltoolbar": "Slideshow",
  "jupytext": {
   "cell_metadata_json": true,
   "formats": "ipynb,md,py:percent",
   "notebook_metadata_filter": "all"
  },
  "kernelspec": {
   "display_name": "Python 3 (ipykernel)",
   "language": "python",
   "name": "python3"
  },
  "language_info": {
   "codemirror_mode": {
    "name": "ipython",
    "version": 3
   },
   "file_extension": ".py",
   "mimetype": "text/x-python",
   "name": "python",
   "nbconvert_exporter": "python",
   "pygments_lexer": "ipython3",
   "version": "3.10.7"
  },
  "rise": {
   "scroll": true,
   "theme": "black"
  },
  "toc-autonumbering": true,
  "toc-showcode": false,
  "toc-showmarkdowntxt": false,
  "widgets": {
   "application/vnd.jupyter.widget-state+json": {
    "state": {},
    "version_major": 2,
    "version_minor": 0
   }
  }
 },
 "nbformat": 4,
 "nbformat_minor": 5
}
